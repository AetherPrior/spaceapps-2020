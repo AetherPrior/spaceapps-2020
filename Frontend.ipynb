{
 "cells": [
  {
   "cell_type": "code",
   "execution_count": 1,
   "metadata": {
    "colab": {
     "base_uri": "https://localhost:8080/",
     "height": 1000
    },
    "executionInfo": {
     "elapsed": 23965,
     "status": "ok",
     "timestamp": 1601826456218,
     "user": {
      "displayName": "Abhinav Sukumar Rao",
      "photoUrl": "https://lh3.googleusercontent.com/a-/AOh14GgOCgTF22xgE65qIKIq4hBjWMa7aayycGiLsV5rIw=s64",
      "userId": "03596266310245983280"
     },
     "user_tz": -330
    },
    "id": "JQO-Lav1S0Wy",
    "outputId": "25743193-0cb3-480f-f7ec-9b2b55844da0"
   },
   "outputs": [
    {
     "name": "stdout",
     "output_type": "stream",
     "text": [
      "Collecting streamlit\n",
      "  Downloading streamlit-0.67.1-py2.py3-none-any.whl (7.2 MB)\n",
      "\u001b[K     |████████████████████████████████| 7.2 MB 310 kB/s eta 0:00:01\n",
      "\u001b[?25hRequirement already satisfied: cachetools>=4.0 in /home/l12-o-0-554/anaconda3/envs/spaceapps/lib/python3.8/site-packages (from streamlit) (4.1.1)\n",
      "Collecting pydeck>=0.1.dev5\n",
      "  Downloading pydeck-0.5.0b1-py2.py3-none-any.whl (4.4 MB)\n",
      "\u001b[K     |████████████████████████████████| 4.4 MB 348 kB/s eta 0:00:01\n",
      "\u001b[?25hRequirement already satisfied: protobuf>=3.6.0 in /home/l12-o-0-554/anaconda3/envs/spaceapps/lib/python3.8/site-packages (from streamlit) (3.13.0)\n",
      "Requirement already satisfied: numpy in /home/l12-o-0-554/.local/lib/python3.8/site-packages (from streamlit) (1.18.4)\n",
      "Collecting watchdog\n",
      "  Downloading watchdog-0.10.3.tar.gz (94 kB)\n",
      "\u001b[K     |████████████████████████████████| 94 kB 241 kB/s eta 0:00:01\n",
      "\u001b[?25hCollecting base58\n",
      "  Downloading base58-2.0.1-py3-none-any.whl (4.3 kB)\n",
      "Requirement already satisfied: tornado>=5.0 in /home/l12-o-0-554/anaconda3/envs/spaceapps/lib/python3.8/site-packages (from streamlit) (6.0.4)\n",
      "Requirement already satisfied: pillow>=6.2.0 in /home/l12-o-0-554/anaconda3/envs/spaceapps/lib/python3.8/site-packages (from streamlit) (7.2.0)\n",
      "Requirement already satisfied: click>=7.0 in /home/l12-o-0-554/.local/lib/python3.8/site-packages (from streamlit) (7.1.2)\n",
      "Collecting botocore>=1.13.44\n",
      "  Downloading botocore-1.18.11-py2.py3-none-any.whl (6.7 MB)\n",
      "\u001b[K     |████████████████████████████████| 6.7 MB 264 kB/s eta 0:00:01\n",
      "\u001b[?25hRequirement already satisfied: packaging in /home/l12-o-0-554/anaconda3/envs/spaceapps/lib/python3.8/site-packages (from streamlit) (20.4)\n",
      "Collecting boto3\n",
      "  Downloading boto3-1.15.11-py2.py3-none-any.whl (129 kB)\n",
      "\u001b[K     |████████████████████████████████| 129 kB 276 kB/s eta 0:00:01\n",
      "\u001b[?25hRequirement already satisfied: toml in /home/l12-o-0-554/.local/lib/python3.8/site-packages (from streamlit) (0.10.1)\n",
      "Collecting enum-compat\n",
      "  Downloading enum_compat-0.0.3-py3-none-any.whl (1.3 kB)\n",
      "Collecting pyarrow\n",
      "  Downloading pyarrow-1.0.1-cp38-cp38-manylinux2014_x86_64.whl (17.3 MB)\n",
      "\u001b[K     |████████████████████████████████| 17.3 MB 1.1 MB/s eta 0:00:01\n",
      "\u001b[?25hRequirement already satisfied: pandas>=0.21.0 in /home/l12-o-0-554/.local/lib/python3.8/site-packages (from streamlit) (1.0.3)\n",
      "Collecting altair>=3.2.0\n",
      "  Downloading altair-4.1.0-py3-none-any.whl (727 kB)\n",
      "\u001b[K     |████████████████████████████████| 727 kB 351 kB/s eta 0:00:01\n",
      "\u001b[?25hRequirement already satisfied: requests in /home/l12-o-0-554/anaconda3/envs/spaceapps/lib/python3.8/site-packages (from streamlit) (2.24.0)\n",
      "Requirement already satisfied: python-dateutil in /home/l12-o-0-554/.local/lib/python3.8/site-packages (from streamlit) (2.8.1)\n",
      "Collecting validators\n",
      "  Downloading validators-0.18.1-py3-none-any.whl (19 kB)\n",
      "Collecting astor\n",
      "  Downloading astor-0.8.1-py2.py3-none-any.whl (27 kB)\n",
      "Collecting tzlocal\n",
      "  Downloading tzlocal-2.1-py2.py3-none-any.whl (16 kB)\n",
      "Requirement already satisfied: blinker in /home/l12-o-0-554/anaconda3/envs/spaceapps/lib/python3.8/site-packages (from streamlit) (1.4)\n",
      "Requirement already satisfied: traitlets>=4.3.2 in /home/l12-o-0-554/anaconda3/envs/spaceapps/lib/python3.8/site-packages (from pydeck>=0.1.dev5->streamlit) (5.0.4)\n",
      "Requirement already satisfied: jinja2>=2.10.1 in /home/l12-o-0-554/anaconda3/envs/spaceapps/lib/python3.8/site-packages (from pydeck>=0.1.dev5->streamlit) (2.11.2)\n",
      "Collecting ipywidgets>=7.0.0\n",
      "  Downloading ipywidgets-7.5.1-py2.py3-none-any.whl (121 kB)\n",
      "\u001b[K     |████████████████████████████████| 121 kB 357 kB/s eta 0:00:01\n",
      "\u001b[?25hRequirement already satisfied: ipykernel>=5.1.2; python_version >= \"3.4\" in /home/l12-o-0-554/anaconda3/envs/spaceapps/lib/python3.8/site-packages (from pydeck>=0.1.dev5->streamlit) (5.3.4)\n",
      "Requirement already satisfied: six>=1.9 in /home/l12-o-0-554/.local/lib/python3.8/site-packages (from protobuf>=3.6.0->streamlit) (1.15.0)\n",
      "Requirement already satisfied: setuptools in /home/l12-o-0-554/anaconda3/envs/spaceapps/lib/python3.8/site-packages (from protobuf>=3.6.0->streamlit) (49.6.0.post20200925)\n",
      "Collecting pathtools>=0.1.1\n",
      "  Downloading pathtools-0.1.2.tar.gz (11 kB)\n",
      "Requirement already satisfied: urllib3<1.26,>=1.20; python_version != \"3.4\" in /home/l12-o-0-554/anaconda3/envs/spaceapps/lib/python3.8/site-packages (from botocore>=1.13.44->streamlit) (1.25.10)\n",
      "Collecting jmespath<1.0.0,>=0.7.1\n",
      "  Downloading jmespath-0.10.0-py2.py3-none-any.whl (24 kB)\n",
      "Requirement already satisfied: pyparsing>=2.0.2 in /home/l12-o-0-554/.local/lib/python3.8/site-packages (from packaging->streamlit) (2.4.7)\n",
      "Collecting s3transfer<0.4.0,>=0.3.0\n",
      "  Downloading s3transfer-0.3.3-py2.py3-none-any.whl (69 kB)\n",
      "\u001b[K     |████████████████████████████████| 69 kB 279 kB/s eta 0:00:01\n",
      "\u001b[?25hRequirement already satisfied: pytz>=2017.2 in /home/l12-o-0-554/.local/lib/python3.8/site-packages (from pandas>=0.21.0->streamlit) (2020.1)\n",
      "Requirement already satisfied: jsonschema in /home/l12-o-0-554/anaconda3/envs/spaceapps/lib/python3.8/site-packages (from altair>=3.2.0->streamlit) (3.2.0)\n",
      "Requirement already satisfied: toolz in /home/l12-o-0-554/anaconda3/envs/spaceapps/lib/python3.8/site-packages (from altair>=3.2.0->streamlit) (0.11.1)\n",
      "Requirement already satisfied: entrypoints in /home/l12-o-0-554/anaconda3/envs/spaceapps/lib/python3.8/site-packages (from altair>=3.2.0->streamlit) (0.3)\n",
      "Requirement already satisfied: idna<3,>=2.5 in /home/l12-o-0-554/anaconda3/envs/spaceapps/lib/python3.8/site-packages (from requests->streamlit) (2.10)\n",
      "Requirement already satisfied: certifi>=2017.4.17 in /home/l12-o-0-554/anaconda3/envs/spaceapps/lib/python3.8/site-packages (from requests->streamlit) (2020.6.20)\n",
      "Requirement already satisfied: chardet<4,>=3.0.2 in /home/l12-o-0-554/anaconda3/envs/spaceapps/lib/python3.8/site-packages (from requests->streamlit) (3.0.4)\n",
      "Requirement already satisfied: decorator>=3.4.0 in /home/l12-o-0-554/anaconda3/envs/spaceapps/lib/python3.8/site-packages (from validators->streamlit) (4.4.2)\n",
      "Requirement already satisfied: ipython-genutils in /home/l12-o-0-554/anaconda3/envs/spaceapps/lib/python3.8/site-packages (from traitlets>=4.3.2->pydeck>=0.1.dev5->streamlit) (0.2.0)\n",
      "Requirement already satisfied: MarkupSafe>=0.23 in /home/l12-o-0-554/anaconda3/envs/spaceapps/lib/python3.8/site-packages (from jinja2>=2.10.1->pydeck>=0.1.dev5->streamlit) (1.1.1)\n",
      "Collecting widgetsnbextension~=3.5.0\n",
      "  Downloading widgetsnbextension-3.5.1-py2.py3-none-any.whl (2.2 MB)\n",
      "\u001b[K     |████████████████████████████████| 2.2 MB 651 kB/s eta 0:00:01\n",
      "\u001b[?25hRequirement already satisfied: nbformat>=4.2.0 in /home/l12-o-0-554/anaconda3/envs/spaceapps/lib/python3.8/site-packages (from ipywidgets>=7.0.0->pydeck>=0.1.dev5->streamlit) (5.0.7)\n",
      "Requirement already satisfied: ipython>=4.0.0; python_version >= \"3.3\" in /home/l12-o-0-554/anaconda3/envs/spaceapps/lib/python3.8/site-packages (from ipywidgets>=7.0.0->pydeck>=0.1.dev5->streamlit) (7.18.1)\n",
      "Requirement already satisfied: jupyter-client in /home/l12-o-0-554/anaconda3/envs/spaceapps/lib/python3.8/site-packages (from ipykernel>=5.1.2; python_version >= \"3.4\"->pydeck>=0.1.dev5->streamlit) (6.1.7)\n",
      "Requirement already satisfied: pyrsistent>=0.14.0 in /home/l12-o-0-554/.local/lib/python3.8/site-packages (from jsonschema->altair>=3.2.0->streamlit) (0.14.11)\n",
      "Requirement already satisfied: attrs>=17.4.0 in /home/l12-o-0-554/.local/lib/python3.8/site-packages (from jsonschema->altair>=3.2.0->streamlit) (18.2.0)\n",
      "Requirement already satisfied: notebook>=4.4.1 in /home/l12-o-0-554/anaconda3/envs/spaceapps/lib/python3.8/site-packages (from widgetsnbextension~=3.5.0->ipywidgets>=7.0.0->pydeck>=0.1.dev5->streamlit) (6.1.4)\n",
      "Requirement already satisfied: jupyter-core in /home/l12-o-0-554/anaconda3/envs/spaceapps/lib/python3.8/site-packages (from nbformat>=4.2.0->ipywidgets>=7.0.0->pydeck>=0.1.dev5->streamlit) (4.6.3)\n",
      "Requirement already satisfied: pexpect>4.3; sys_platform != \"win32\" in /home/l12-o-0-554/.local/lib/python3.8/site-packages (from ipython>=4.0.0; python_version >= \"3.3\"->ipywidgets>=7.0.0->pydeck>=0.1.dev5->streamlit) (4.8.0)\n",
      "Requirement already satisfied: pickleshare in /home/l12-o-0-554/anaconda3/envs/spaceapps/lib/python3.8/site-packages (from ipython>=4.0.0; python_version >= \"3.3\"->ipywidgets>=7.0.0->pydeck>=0.1.dev5->streamlit) (0.7.5)\n",
      "Requirement already satisfied: pygments in /home/l12-o-0-554/anaconda3/envs/spaceapps/lib/python3.8/site-packages (from ipython>=4.0.0; python_version >= \"3.3\"->ipywidgets>=7.0.0->pydeck>=0.1.dev5->streamlit) (2.7.1)\n"
     ]
    },
    {
     "name": "stdout",
     "output_type": "stream",
     "text": [
      "Requirement already satisfied: prompt-toolkit!=3.0.0,!=3.0.1,<3.1.0,>=2.0.0 in /home/l12-o-0-554/anaconda3/envs/spaceapps/lib/python3.8/site-packages (from ipython>=4.0.0; python_version >= \"3.3\"->ipywidgets>=7.0.0->pydeck>=0.1.dev5->streamlit) (3.0.7)\n",
      "Requirement already satisfied: backcall in /home/l12-o-0-554/anaconda3/envs/spaceapps/lib/python3.8/site-packages (from ipython>=4.0.0; python_version >= \"3.3\"->ipywidgets>=7.0.0->pydeck>=0.1.dev5->streamlit) (0.2.0)\n",
      "Requirement already satisfied: jedi>=0.10 in /home/l12-o-0-554/anaconda3/envs/spaceapps/lib/python3.8/site-packages (from ipython>=4.0.0; python_version >= \"3.3\"->ipywidgets>=7.0.0->pydeck>=0.1.dev5->streamlit) (0.17.2)\n",
      "Requirement already satisfied: pyzmq>=13 in /home/l12-o-0-554/anaconda3/envs/spaceapps/lib/python3.8/site-packages (from jupyter-client->ipykernel>=5.1.2; python_version >= \"3.4\"->pydeck>=0.1.dev5->streamlit) (19.0.2)\n",
      "Requirement already satisfied: prometheus-client in /home/l12-o-0-554/anaconda3/envs/spaceapps/lib/python3.8/site-packages (from notebook>=4.4.1->widgetsnbextension~=3.5.0->ipywidgets>=7.0.0->pydeck>=0.1.dev5->streamlit) (0.8.0)\n",
      "Requirement already satisfied: terminado>=0.8.3 in /home/l12-o-0-554/anaconda3/envs/spaceapps/lib/python3.8/site-packages (from notebook>=4.4.1->widgetsnbextension~=3.5.0->ipywidgets>=7.0.0->pydeck>=0.1.dev5->streamlit) (0.9.1)\n",
      "Requirement already satisfied: nbconvert in /home/l12-o-0-554/anaconda3/envs/spaceapps/lib/python3.8/site-packages (from notebook>=4.4.1->widgetsnbextension~=3.5.0->ipywidgets>=7.0.0->pydeck>=0.1.dev5->streamlit) (6.0.7)\n",
      "Requirement already satisfied: argon2-cffi in /home/l12-o-0-554/anaconda3/envs/spaceapps/lib/python3.8/site-packages (from notebook>=4.4.1->widgetsnbextension~=3.5.0->ipywidgets>=7.0.0->pydeck>=0.1.dev5->streamlit) (20.1.0)\n",
      "Requirement already satisfied: Send2Trash in /home/l12-o-0-554/anaconda3/envs/spaceapps/lib/python3.8/site-packages (from notebook>=4.4.1->widgetsnbextension~=3.5.0->ipywidgets>=7.0.0->pydeck>=0.1.dev5->streamlit) (1.5.0)\n",
      "Requirement already satisfied: ptyprocess>=0.5 in /home/l12-o-0-554/.local/lib/python3.8/site-packages (from pexpect>4.3; sys_platform != \"win32\"->ipython>=4.0.0; python_version >= \"3.3\"->ipywidgets>=7.0.0->pydeck>=0.1.dev5->streamlit) (0.6.0)\n",
      "Requirement already satisfied: wcwidth in /home/l12-o-0-554/anaconda3/envs/spaceapps/lib/python3.8/site-packages (from prompt-toolkit!=3.0.0,!=3.0.1,<3.1.0,>=2.0.0->ipython>=4.0.0; python_version >= \"3.3\"->ipywidgets>=7.0.0->pydeck>=0.1.dev5->streamlit) (0.2.5)\n",
      "Requirement already satisfied: parso<0.8.0,>=0.7.0 in /home/l12-o-0-554/anaconda3/envs/spaceapps/lib/python3.8/site-packages (from jedi>=0.10->ipython>=4.0.0; python_version >= \"3.3\"->ipywidgets>=7.0.0->pydeck>=0.1.dev5->streamlit) (0.7.1)\n",
      "Requirement already satisfied: nbclient<0.6.0,>=0.5.0 in /home/l12-o-0-554/anaconda3/envs/spaceapps/lib/python3.8/site-packages (from nbconvert->notebook>=4.4.1->widgetsnbextension~=3.5.0->ipywidgets>=7.0.0->pydeck>=0.1.dev5->streamlit) (0.5.0)\n",
      "Requirement already satisfied: pandocfilters>=1.4.1 in /home/l12-o-0-554/anaconda3/envs/spaceapps/lib/python3.8/site-packages (from nbconvert->notebook>=4.4.1->widgetsnbextension~=3.5.0->ipywidgets>=7.0.0->pydeck>=0.1.dev5->streamlit) (1.4.2)\n",
      "Requirement already satisfied: bleach in /home/l12-o-0-554/anaconda3/envs/spaceapps/lib/python3.8/site-packages (from nbconvert->notebook>=4.4.1->widgetsnbextension~=3.5.0->ipywidgets>=7.0.0->pydeck>=0.1.dev5->streamlit) (3.2.1)\n",
      "Requirement already satisfied: defusedxml in /home/l12-o-0-554/anaconda3/envs/spaceapps/lib/python3.8/site-packages (from nbconvert->notebook>=4.4.1->widgetsnbextension~=3.5.0->ipywidgets>=7.0.0->pydeck>=0.1.dev5->streamlit) (0.6.0)\n",
      "Requirement already satisfied: testpath in /home/l12-o-0-554/anaconda3/envs/spaceapps/lib/python3.8/site-packages (from nbconvert->notebook>=4.4.1->widgetsnbextension~=3.5.0->ipywidgets>=7.0.0->pydeck>=0.1.dev5->streamlit) (0.4.4)\n",
      "Requirement already satisfied: jupyterlab-pygments in /home/l12-o-0-554/anaconda3/envs/spaceapps/lib/python3.8/site-packages (from nbconvert->notebook>=4.4.1->widgetsnbextension~=3.5.0->ipywidgets>=7.0.0->pydeck>=0.1.dev5->streamlit) (0.1.2)\n",
      "Requirement already satisfied: mistune<2,>=0.8.1 in /home/l12-o-0-554/anaconda3/envs/spaceapps/lib/python3.8/site-packages (from nbconvert->notebook>=4.4.1->widgetsnbextension~=3.5.0->ipywidgets>=7.0.0->pydeck>=0.1.dev5->streamlit) (0.8.4)\n",
      "Requirement already satisfied: cffi>=1.0.0 in /home/l12-o-0-554/anaconda3/envs/spaceapps/lib/python3.8/site-packages (from argon2-cffi->notebook>=4.4.1->widgetsnbextension~=3.5.0->ipywidgets>=7.0.0->pydeck>=0.1.dev5->streamlit) (1.14.3)\n",
      "Requirement already satisfied: nest-asyncio in /home/l12-o-0-554/anaconda3/envs/spaceapps/lib/python3.8/site-packages (from nbclient<0.6.0,>=0.5.0->nbconvert->notebook>=4.4.1->widgetsnbextension~=3.5.0->ipywidgets>=7.0.0->pydeck>=0.1.dev5->streamlit) (1.4.1)\n",
      "Requirement already satisfied: async-generator in /home/l12-o-0-554/anaconda3/envs/spaceapps/lib/python3.8/site-packages (from nbclient<0.6.0,>=0.5.0->nbconvert->notebook>=4.4.1->widgetsnbextension~=3.5.0->ipywidgets>=7.0.0->pydeck>=0.1.dev5->streamlit) (1.10)\n",
      "Requirement already satisfied: webencodings in /home/l12-o-0-554/anaconda3/envs/spaceapps/lib/python3.8/site-packages (from bleach->nbconvert->notebook>=4.4.1->widgetsnbextension~=3.5.0->ipywidgets>=7.0.0->pydeck>=0.1.dev5->streamlit) (0.5.1)\n",
      "Requirement already satisfied: pycparser in /home/l12-o-0-554/anaconda3/envs/spaceapps/lib/python3.8/site-packages (from cffi>=1.0.0->argon2-cffi->notebook>=4.4.1->widgetsnbextension~=3.5.0->ipywidgets>=7.0.0->pydeck>=0.1.dev5->streamlit) (2.20)\n",
      "Building wheels for collected packages: watchdog, pathtools\n",
      "  Building wheel for watchdog (setup.py) ... \u001b[?25ldone\n",
      "\u001b[?25h  Created wheel for watchdog: filename=watchdog-0.10.3-py3-none-any.whl size=73868 sha256=109049c2842e5541c2d148aa1f07df40f33af5021e5679521011551b17be423b\n",
      "  Stored in directory: /home/l12-o-0-554/.cache/pip/wheels/f8/39/45/b80612a24e42d9de0bd5eaf69eaf953edc25e1a9809d3d989f\n",
      "  Building wheel for pathtools (setup.py) ... \u001b[?25ldone\n",
      "\u001b[?25h  Created wheel for pathtools: filename=pathtools-0.1.2-py3-none-any.whl size=8785 sha256=c187ee066545853898a22619383866b36e23b3a12ea4f41202db711086a34e9d\n",
      "  Stored in directory: /home/l12-o-0-554/.cache/pip/wheels/4c/8e/7e/72fbc243e1aeecae64a96875432e70d4e92f3d2d18123be004\n",
      "Successfully built watchdog pathtools\n",
      "Installing collected packages: widgetsnbextension, ipywidgets, pydeck, pathtools, watchdog, base58, jmespath, botocore, s3transfer, boto3, enum-compat, pyarrow, altair, validators, astor, tzlocal, streamlit\n",
      "Successfully installed altair-4.1.0 astor-0.8.1 base58-2.0.1 boto3-1.15.11 botocore-1.18.11 enum-compat-0.0.3 ipywidgets-7.5.1 jmespath-0.10.0 pathtools-0.1.2 pyarrow-1.0.1 pydeck-0.5.0b1 s3transfer-0.3.3 streamlit-0.67.1 tzlocal-2.1 validators-0.18.1 watchdog-0.10.3 widgetsnbextension-3.5.1\n",
      "\u001b[33mWARNING: You are using pip version 20.1.1; however, version 20.2.3 is available.\n",
      "You should consider upgrading via the '/home/l12-o-0-554/anaconda3/envs/spaceapps/bin/python -m pip install --upgrade pip' command.\u001b[0m\n"
     ]
    }
   ],
   "source": [
    "!pip install streamlit"
   ]
  },
  {
   "cell_type": "code",
   "execution_count": 2,
   "metadata": {
    "colab": {
     "base_uri": "https://localhost:8080/",
     "height": 230
    },
    "executionInfo": {
     "elapsed": 3908,
     "status": "ok",
     "timestamp": 1601827666332,
     "user": {
      "displayName": "Abhinav Sukumar Rao",
      "photoUrl": "https://lh3.googleusercontent.com/a-/AOh14GgOCgTF22xgE65qIKIq4hBjWMa7aayycGiLsV5rIw=s64",
      "userId": "03596266310245983280"
     },
     "user_tz": -330
    },
    "id": "8pgKsIdKuC3c",
    "outputId": "22225bcf-2321-4405-f3ff-6e26312be29a"
   },
   "outputs": [
    {
     "name": "stdout",
     "output_type": "stream",
     "text": [
      "--2020-10-04 22:23:12--  https://bin.equinox.io/c/4VmDzA7iaHb/ngrok-stable-linux-amd64.zip\n",
      "Loaded CA certificate '/etc/ssl/certs/ca-certificates.crt'\n",
      "Resolving bin.equinox.io (bin.equinox.io)... 3.209.27.98, 54.84.169.173, 52.73.16.193, ...\n",
      "Connecting to bin.equinox.io (bin.equinox.io)|3.209.27.98|:443... connected.\n",
      "HTTP request sent, awaiting response... 200 OK\n",
      "Length: 13773305 (13M) [application/octet-stream]\n",
      "Saving to: ‘ngrok-stable-linux-amd64.zip’\n",
      "\n",
      "ngrok-stable-linux-  21%[===>                ]   2.83M  93.2KB/s    eta 2m 10s ^C\n"
     ]
    }
   ],
   "source": [
    "!wget https://bin.equinox.io/c/4VmDzA7iaHb/ngrok-stable-linux-amd64.zip\n"
   ]
  },
  {
   "cell_type": "code",
   "execution_count": 5,
   "metadata": {
    "colab": {
     "base_uri": "https://localhost:8080/",
     "height": 94
    },
    "executionInfo": {
     "elapsed": 7806,
     "status": "ok",
     "timestamp": 1601829815470,
     "user": {
      "displayName": "Abhinav Sukumar Rao",
      "photoUrl": "https://lh3.googleusercontent.com/a-/AOh14GgOCgTF22xgE65qIKIq4hBjWMa7aayycGiLsV5rIw=s64",
      "userId": "03596266310245983280"
     },
     "user_tz": -330
    },
    "id": "iVx8i4r2yPco",
    "outputId": "754e722c-21c5-47ca-f8de-c0e83217a58a"
   },
   "outputs": [
    {
     "name": "stdout",
     "output_type": "stream",
     "text": [
      "Archive:  ngrok-stable-linux-amd64.zip\n",
      "replace ngrok? [y]es, [n]o, [A]ll, [N]one, [r]ename: m\n",
      "error:  invalid response [m]\n",
      "replace ngrok? [y]es, [n]o, [A]ll, [N]one, [r]ename: n\n"
     ]
    }
   ],
   "source": [
    "!unzip ngrok-stable-linux-amd64.zip"
   ]
  },
  {
   "cell_type": "code",
   "execution_count": 6,
   "metadata": {
    "executionInfo": {
     "elapsed": 1023,
     "status": "ok",
     "timestamp": 1601829817778,
     "user": {
      "displayName": "Abhinav Sukumar Rao",
      "photoUrl": "https://lh3.googleusercontent.com/a-/AOh14GgOCgTF22xgE65qIKIq4hBjWMa7aayycGiLsV5rIw=s64",
      "userId": "03596266310245983280"
     },
     "user_tz": -330
    },
    "id": "gVK5AKHXyRRX"
   },
   "outputs": [],
   "source": [
    "get_ipython().system_raw('./ngrok http 8501 &')"
   ]
  },
  {
   "cell_type": "code",
   "execution_count": 3,
   "metadata": {
    "colab": {
     "base_uri": "https://localhost:8080/",
     "height": 36
    },
    "executionInfo": {
     "elapsed": 1030,
     "status": "ok",
     "timestamp": 1601829819737,
     "user": {
      "displayName": "Abhinav Sukumar Rao",
      "photoUrl": "https://lh3.googleusercontent.com/a-/AOh14GgOCgTF22xgE65qIKIq4hBjWMa7aayycGiLsV5rIw=s64",
      "userId": "03596266310245983280"
     },
     "user_tz": -330
    },
    "id": "am5A0SVqyTH3",
    "outputId": "8196eb19-c2f0-4c9e-fb16-3cd2d7793bbc"
   },
   "outputs": [
    {
     "name": "stdout",
     "output_type": "stream",
     "text": [
      "Traceback (most recent call last):\n",
      "  File \"<string>\", line 1, in <module>\n",
      "  File \"/home/l12-o-0-554/anaconda3/envs/spaceapps/lib/python3.8/json/__init__.py\", line 293, in load\n",
      "    return loads(fp.read(),\n",
      "  File \"/home/l12-o-0-554/anaconda3/envs/spaceapps/lib/python3.8/json/__init__.py\", line 357, in loads\n",
      "    return _default_decoder.decode(s)\n",
      "  File \"/home/l12-o-0-554/anaconda3/envs/spaceapps/lib/python3.8/json/decoder.py\", line 337, in decode\n",
      "    obj, end = self.raw_decode(s, idx=_w(s, 0).end())\n",
      "  File \"/home/l12-o-0-554/anaconda3/envs/spaceapps/lib/python3.8/json/decoder.py\", line 355, in raw_decode\n",
      "    raise JSONDecodeError(\"Expecting value\", s, err.value) from None\n",
      "json.decoder.JSONDecodeError: Expecting value: line 1 column 1 (char 0)\n"
     ]
    }
   ],
   "source": [
    "!curl -s http://localhost:4040/api/tunnels | python3 -c \\\n",
    "    'import sys, json; print(\"Execute the next cell and the go to the following URL: \" +json.load(sys.stdin)[\"tunnels\"][0][\"public_url\"])'"
   ]
  },
  {
   "cell_type": "code",
   "execution_count": null,
   "metadata": {
    "colab": {
     "base_uri": "https://localhost:8080/",
     "height": 202
    },
    "id": "R26uPKTpyWBc",
    "outputId": "908e6c56-0218-44fa-f70e-9eeae162c7b5"
   },
   "outputs": [
    {
     "name": "stdout",
     "output_type": "stream",
     "text": [
      "\r\n",
      "  👋 \u001b[1mWelcome to Streamlit!\u001b[0m\r\n",
      "\r\n",
      "  If you're one of our development partners or you're interested in getting\r\n",
      "  personal technical support or Streamlit updates, please enter your email\r\n",
      "  address below. Otherwise, you may leave the field blank.\r\n",
      "\r\n",
      "  \u001b[34mEmail: \u001b[0m"
     ]
    }
   ],
   "source": [
    "#%cd '/content/drive/My Drive/Spaceapps-2020/Model'\n",
    "#!jupyter nbconvert   --to script streamlit.ipynb\n",
    "#!mv streamlit.txt streamlit.py\n",
    "!streamlit run 'streamlit.py'"
   ]
  },
  {
   "cell_type": "code",
   "execution_count": 2,
   "metadata": {
    "colab": {
     "base_uri": "https://localhost:8080/",
     "height": 36
    },
    "executionInfo": {
     "elapsed": 29443,
     "status": "ok",
     "timestamp": 1601826342518,
     "user": {
      "displayName": "Abhinav Sukumar Rao",
      "photoUrl": "https://lh3.googleusercontent.com/a-/AOh14GgOCgTF22xgE65qIKIq4hBjWMa7aayycGiLsV5rIw=s64",
      "userId": "03596266310245983280"
     },
     "user_tz": -330
    },
    "id": "DVm8KUbT_lGi",
    "outputId": "759a3653-164c-4dc4-e6a1-4264b1662d8c"
   },
   "outputs": [
    {
     "name": "stdout",
     "output_type": "stream",
     "text": [
      "Mounted at /content/drive\n"
     ]
    }
   ],
   "source": [
    "from google.colab import drive\n",
    "drive.mount('/content/drive')"
   ]
  },
  {
   "cell_type": "code",
   "execution_count": null,
   "metadata": {
    "id": "z17_zCKOVQgv"
   },
   "outputs": [],
   "source": []
  }
 ],
 "metadata": {
  "colab": {
   "name": "Frontend.ipynb",
   "provenance": [
    {
     "file_id": "18rfOf4Sy2psT4IMW5sikEA4jtLfF1ao_",
     "timestamp": 1601820992014
    }
   ]
  },
  "kernelspec": {
   "display_name": "Python 3",
   "language": "python",
   "name": "python3"
  },
  "language_info": {
   "codemirror_mode": {
    "name": "ipython",
    "version": 3
   },
   "file_extension": ".py",
   "mimetype": "text/x-python",
   "name": "python",
   "nbconvert_exporter": "python",
   "pygments_lexer": "ipython3",
   "version": "3.8.2"
  }
 },
 "nbformat": 4,
 "nbformat_minor": 1
}
