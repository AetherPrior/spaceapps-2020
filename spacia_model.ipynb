{
 "cells": [
  {
   "cell_type": "code",
   "execution_count": 40,
   "metadata": {
    "colab": {
     "base_uri": "https://localhost:8080/",
     "height": 36
    },
    "id": "DI0KsmPRrHcc",
    "outputId": "141e20d9-aec8-4987-b28d-8bc718a3c116"
   },
   "outputs": [],
   "source": [
    "#imports\n",
    "#%cd '/content/drive/My Drive/Spaceapps-2020/Model'\n",
    "#import import_ipynb\n",
    "import numpy as np\n",
    "import tensorflow as tf\n",
    "from tensorflow import keras\n",
    "from tensorflow.keras.models import Sequential\n",
    "from tensorflow.keras.layers import Activation, Dense, Flatten, Dropout\n",
    "from tensorflow.keras.optimizers import Adam\n",
    "from tensorflow.keras.metrics import categorical_crossentropy\n",
    "from preprocess import preprocess\n",
    "from imblearn.over_sampling import RandomOverSampler"
   ]
  },
  {
   "cell_type": "code",
   "execution_count": 41,
   "metadata": {
    "colab": {
     "base_uri": "https://localhost:8080/",
     "height": 404
    },
    "id": "UiN1Epy0zOGp",
    "outputId": "d2fc80ba-c032-4f8f-91c4-d5d72f83f7a1"
   },
   "outputs": [],
   "source": [
    "#checking for gpu stats\n",
    "#LITE\n",
    "#!nvidia-smi\n",
    "X,y,coords = preprocess('/home/l12-o-0-554/Desktop/SpaceApps/notebooks/spaceapps-2020/MOD14.A2020031.0910.006.2020031142922.hdf',\n",
    "                       '/home/l12-o-0-554/Desktop/SpaceApps/notebooks/spaceapps-2020/MOD04_L2.A2020031.0910.061.2020031193711.hdf',\n",
    "                       '/home/l12-o-0-554/Desktop/SpaceApps/notebooks/spaceapps-2020/MOD11_L2.A2020031.0910.006.2020032074934.hdf')"
   ]
  },
  {
   "cell_type": "code",
   "execution_count": 42,
   "metadata": {
    "colab": {
     "base_uri": "https://localhost:8080/",
     "height": 36
    },
    "id": "w_unxy_NekvI",
    "outputId": "1a8e7e34-5125-4113-8316-bea856c075bb"
   },
   "outputs": [
    {
     "name": "stdout",
     "output_type": "stream",
     "text": [
      "(27405, 8) (27405,)\n"
     ]
    }
   ],
   "source": [
    "print(X.shape,y.shape)\n",
    "oversample = RandomOverSampler(sampling_strategy='minority')\n",
    "X_o,y_o = oversample.fit_resample(X,y)"
   ]
  },
  {
   "cell_type": "code",
   "execution_count": 43,
   "metadata": {
    "id": "p86s68ItzUeM"
   },
   "outputs": [],
   "source": [
    "#activating gpu\n",
    "\n",
    "#tf.config.experimental.set_memory_growth(tf.config.experimental.list_physical_devices('GPU')[0], True)"
   ]
  },
  {
   "cell_type": "code",
   "execution_count": 44,
   "metadata": {
    "id": "Ziu1ZPuezbCs"
   },
   "outputs": [],
   "source": [
    "#the dropout is primarily incase we pick a completely wrong param and the model hopefully learns to ignore it\n",
    "#update the input shape in the first layer to change the number of input params, and the number of units in the last layer for the number of outputs classes we have\n",
    "\n",
    "model= Sequential([\n",
    "    Dense(units=32, input_shape=(8,), activation='relu'),\n",
    "    Dropout(0.2),\n",
    "    Dense(units=64, activation='relu'),\n",
    "    Dropout(0.2),\n",
    "    Dense(units=128, activation='relu'),\n",
    "    Dropout(0.2),\n",
    "    Dense(units=1, activation='sigmoid')\n",
    "])"
   ]
  },
  {
   "cell_type": "code",
   "execution_count": 45,
   "metadata": {
    "colab": {
     "base_uri": "https://localhost:8080/",
     "height": 443
    },
    "id": "3Tag364Tz7qq",
    "outputId": "4ad4ebc6-7bfe-4af8-cd01-f62cb4ccd3b9"
   },
   "outputs": [
    {
     "name": "stdout",
     "output_type": "stream",
     "text": [
      "Model: \"sequential_4\"\n",
      "_________________________________________________________________\n",
      "Layer (type)                 Output Shape              Param #   \n",
      "=================================================================\n",
      "dense_16 (Dense)             (None, 32)                288       \n",
      "_________________________________________________________________\n",
      "dropout_12 (Dropout)         (None, 32)                0         \n",
      "_________________________________________________________________\n",
      "dense_17 (Dense)             (None, 64)                2112      \n",
      "_________________________________________________________________\n",
      "dropout_13 (Dropout)         (None, 64)                0         \n",
      "_________________________________________________________________\n",
      "dense_18 (Dense)             (None, 128)               8320      \n",
      "_________________________________________________________________\n",
      "dropout_14 (Dropout)         (None, 128)               0         \n",
      "_________________________________________________________________\n",
      "dense_19 (Dense)             (None, 1)                 129       \n",
      "=================================================================\n",
      "Total params: 10,849\n",
      "Trainable params: 10,849\n",
      "Non-trainable params: 0\n",
      "_________________________________________________________________\n"
     ]
    }
   ],
   "source": [
    "#self explanatory\n",
    "\n",
    "model.summary()"
   ]
  },
  {
   "cell_type": "code",
   "execution_count": 46,
   "metadata": {
    "id": "vXHqv8-Hz_oY"
   },
   "outputs": [],
   "source": [
    "#don't change unless you're sure of what you're doing\n",
    "\n",
    "model.compile(optimizer=Adam(learning_rate=0.001), loss='binary_crossentropy', metrics=['accuracy'])"
   ]
  },
  {
   "cell_type": "code",
   "execution_count": 47,
   "metadata": {
    "colab": {
     "base_uri": "https://localhost:8080/",
     "height": 1000
    },
    "id": "cuKtY2rp0B7I",
    "outputId": "d5e6d183-b0e5-4b06-f05c-97876ccf4ac5"
   },
   "outputs": [
    {
     "name": "stdout",
     "output_type": "stream",
     "text": [
      "Epoch 1/100\n",
      "11/11 [==============================] - 1s 50ms/step - loss: 298.5720 - accuracy: 0.7459 - val_loss: 645.0212 - val_accuracy: 0.0604\n",
      "Epoch 2/100\n",
      "11/11 [==============================] - 0s 30ms/step - loss: 180.8867 - accuracy: 0.7418 - val_loss: 220.3331 - val_accuracy: 0.0000e+00\n",
      "Epoch 3/100\n",
      "11/11 [==============================] - 0s 36ms/step - loss: 129.0182 - accuracy: 0.7819 - val_loss: 100.3930 - val_accuracy: 0.0000e+00\n",
      "Epoch 4/100\n",
      "11/11 [==============================] - 0s 29ms/step - loss: 102.0003 - accuracy: 0.7592 - val_loss: 74.4829 - val_accuracy: 0.0000e+00\n",
      "Epoch 5/100\n",
      "11/11 [==============================] - 0s 26ms/step - loss: 81.1637 - accuracy: 0.7661 - val_loss: 40.3060 - val_accuracy: 0.6465\n",
      "Epoch 6/100\n",
      "11/11 [==============================] - 0s 31ms/step - loss: 68.8923 - accuracy: 0.7633 - val_loss: 79.3465 - val_accuracy: 0.0000e+00\n",
      "Epoch 7/100\n",
      "11/11 [==============================] - 0s 30ms/step - loss: 56.2029 - accuracy: 0.7742 - val_loss: 40.6022 - val_accuracy: 0.0761\n",
      "Epoch 8/100\n",
      "11/11 [==============================] - 0s 32ms/step - loss: 47.9267 - accuracy: 0.7679 - val_loss: 73.9411 - val_accuracy: 0.0000e+00\n",
      "Epoch 9/100\n",
      "11/11 [==============================] - 0s 37ms/step - loss: 43.0792 - accuracy: 0.7634 - val_loss: 50.1007 - val_accuracy: 0.0169\n",
      "Epoch 10/100\n",
      "11/11 [==============================] - 0s 28ms/step - loss: 37.1158 - accuracy: 0.7695 - val_loss: 45.6257 - val_accuracy: 0.0000e+00\n",
      "Epoch 11/100\n",
      "11/11 [==============================] - 0s 31ms/step - loss: 32.1726 - accuracy: 0.7641 - val_loss: 46.0824 - val_accuracy: 0.0000e+00\n",
      "Epoch 12/100\n",
      "11/11 [==============================] - 0s 34ms/step - loss: 27.7885 - accuracy: 0.7647 - val_loss: 31.5743 - val_accuracy: 0.0128\n",
      "Epoch 13/100\n",
      "11/11 [==============================] - 0s 38ms/step - loss: 24.1297 - accuracy: 0.7677 - val_loss: 32.5235 - val_accuracy: 0.1018\n",
      "Epoch 14/100\n",
      "11/11 [==============================] - 0s 32ms/step - loss: 20.8385 - accuracy: 0.7631 - val_loss: 34.4146 - val_accuracy: 0.0994\n",
      "Epoch 15/100\n",
      "11/11 [==============================] - 0s 31ms/step - loss: 18.4124 - accuracy: 0.7665 - val_loss: 30.7705 - val_accuracy: 0.0000e+00\n",
      "Epoch 16/100\n",
      "11/11 [==============================] - 0s 38ms/step - loss: 15.2028 - accuracy: 0.7690 - val_loss: 19.8836 - val_accuracy: 0.0000e+00\n",
      "Epoch 17/100\n",
      "11/11 [==============================] - 0s 34ms/step - loss: 12.8993 - accuracy: 0.7678 - val_loss: 11.9205 - val_accuracy: 0.0000e+00\n",
      "Epoch 18/100\n",
      "11/11 [==============================] - 0s 38ms/step - loss: 10.7775 - accuracy: 0.7664 - val_loss: 8.9442 - val_accuracy: 0.0000e+00\n",
      "Epoch 19/100\n",
      "11/11 [==============================] - 0s 37ms/step - loss: 8.6474 - accuracy: 0.7717 - val_loss: 6.5371 - val_accuracy: 0.0100\n",
      "Epoch 20/100\n",
      "11/11 [==============================] - 0s 32ms/step - loss: 7.4532 - accuracy: 0.7650 - val_loss: 5.1931 - val_accuracy: 0.0606\n",
      "Epoch 21/100\n",
      "11/11 [==============================] - 0s 31ms/step - loss: 5.9271 - accuracy: 0.7672 - val_loss: 4.1254 - val_accuracy: 0.0990\n",
      "Epoch 22/100\n",
      "11/11 [==============================] - 0s 28ms/step - loss: 4.6641 - accuracy: 0.7664 - val_loss: 1.1097 - val_accuracy: 0.2413\n",
      "Epoch 23/100\n",
      "11/11 [==============================] - 0s 34ms/step - loss: 3.6359 - accuracy: 0.7705 - val_loss: 0.9967 - val_accuracy: 0.1824\n",
      "Epoch 24/100\n",
      "11/11 [==============================] - 0s 30ms/step - loss: 3.0512 - accuracy: 0.7749 - val_loss: 0.8888 - val_accuracy: 0.1119\n",
      "Epoch 25/100\n",
      "11/11 [==============================] - 1s 46ms/step - loss: 2.5402 - accuracy: 0.7800 - val_loss: 0.9540 - val_accuracy: 0.0841\n",
      "Epoch 26/100\n",
      "11/11 [==============================] - 1s 51ms/step - loss: 2.1209 - accuracy: 0.7893 - val_loss: 1.0586 - val_accuracy: 0.0918\n",
      "Epoch 27/100\n",
      "11/11 [==============================] - 1s 53ms/step - loss: 1.8515 - accuracy: 0.7902 - val_loss: 1.3238 - val_accuracy: 0.0022\n",
      "Epoch 28/100\n",
      "11/11 [==============================] - 1s 49ms/step - loss: 1.7636 - accuracy: 0.7981 - val_loss: 1.3128 - val_accuracy: 0.0000e+00\n",
      "Epoch 29/100\n",
      "11/11 [==============================] - 0s 44ms/step - loss: 1.5037 - accuracy: 0.8060 - val_loss: 1.0191 - val_accuracy: 0.0000e+00\n",
      "Epoch 30/100\n",
      "11/11 [==============================] - 1s 58ms/step - loss: 1.4469 - accuracy: 0.8074 - val_loss: 1.5068 - val_accuracy: 0.0000e+00\n",
      "Epoch 31/100\n",
      "11/11 [==============================] - 0s 43ms/step - loss: 1.3212 - accuracy: 0.8078 - val_loss: 1.2416 - val_accuracy: 0.0000e+00\n",
      "Epoch 32/100\n",
      "11/11 [==============================] - 0s 45ms/step - loss: 1.2032 - accuracy: 0.8136 - val_loss: 1.1974 - val_accuracy: 0.0000e+00\n",
      "Epoch 33/100\n",
      "11/11 [==============================] - 0s 45ms/step - loss: 1.1513 - accuracy: 0.8128 - val_loss: 1.0549 - val_accuracy: 0.0000e+00\n",
      "Epoch 34/100\n",
      "11/11 [==============================] - 1s 65ms/step - loss: 1.1012 - accuracy: 0.8150 - val_loss: 1.0480 - val_accuracy: 0.0000e+00\n",
      "Epoch 35/100\n",
      "11/11 [==============================] - 1s 50ms/step - loss: 1.0467 - accuracy: 0.8153 - val_loss: 1.1163 - val_accuracy: 0.0000e+00\n",
      "Epoch 36/100\n",
      "11/11 [==============================] - 1s 48ms/step - loss: 1.0021 - accuracy: 0.8163 - val_loss: 0.8702 - val_accuracy: 0.0000e+00\n",
      "Epoch 37/100\n",
      "11/11 [==============================] - 1s 54ms/step - loss: 1.0015 - accuracy: 0.8133 - val_loss: 1.2484 - val_accuracy: 0.0000e+00\n",
      "Epoch 38/100\n",
      "11/11 [==============================] - 1s 49ms/step - loss: 0.9730 - accuracy: 0.8136 - val_loss: 1.1658 - val_accuracy: 0.0000e+00\n",
      "Epoch 39/100\n",
      "11/11 [==============================] - 1s 50ms/step - loss: 0.9400 - accuracy: 0.8198 - val_loss: 1.3149 - val_accuracy: 0.0000e+00\n",
      "Epoch 40/100\n",
      "11/11 [==============================] - 0s 31ms/step - loss: 0.8984 - accuracy: 0.8212 - val_loss: 0.9777 - val_accuracy: 0.0000e+00\n",
      "Epoch 41/100\n",
      "11/11 [==============================] - 0s 40ms/step - loss: 0.9396 - accuracy: 0.8198 - val_loss: 1.0068 - val_accuracy: 0.0000e+00\n",
      "Epoch 42/100\n",
      "11/11 [==============================] - 0s 29ms/step - loss: 0.8108 - accuracy: 0.8207 - val_loss: 1.1430 - val_accuracy: 0.0000e+00\n",
      "Epoch 43/100\n",
      "11/11 [==============================] - 0s 34ms/step - loss: 0.8521 - accuracy: 0.8185 - val_loss: 1.2039 - val_accuracy: 0.0000e+00\n",
      "Epoch 44/100\n",
      "11/11 [==============================] - 0s 36ms/step - loss: 0.8793 - accuracy: 0.8186 - val_loss: 0.9092 - val_accuracy: 0.0000e+00\n",
      "Epoch 45/100\n",
      "11/11 [==============================] - 0s 34ms/step - loss: 0.8238 - accuracy: 0.8193 - val_loss: 1.0088 - val_accuracy: 0.0000e+00\n",
      "Epoch 46/100\n",
      "11/11 [==============================] - 0s 36ms/step - loss: 0.7337 - accuracy: 0.8212 - val_loss: 1.1237 - val_accuracy: 0.0000e+00\n",
      "Epoch 47/100\n",
      "11/11 [==============================] - 0s 37ms/step - loss: 0.7460 - accuracy: 0.8232 - val_loss: 1.0906 - val_accuracy: 0.0000e+00\n",
      "Epoch 48/100\n",
      "11/11 [==============================] - 0s 38ms/step - loss: 0.7425 - accuracy: 0.8225 - val_loss: 1.1651 - val_accuracy: 0.0000e+00\n",
      "Epoch 49/100\n",
      "11/11 [==============================] - 0s 38ms/step - loss: 0.7629 - accuracy: 0.8216 - val_loss: 1.1245 - val_accuracy: 0.0000e+00\n",
      "Epoch 50/100\n",
      "11/11 [==============================] - 0s 40ms/step - loss: 0.7420 - accuracy: 0.8235 - val_loss: 1.1455 - val_accuracy: 0.0000e+00\n",
      "Epoch 51/100\n",
      "11/11 [==============================] - 0s 39ms/step - loss: 0.6495 - accuracy: 0.8215 - val_loss: 1.0273 - val_accuracy: 0.0000e+00\n",
      "Epoch 52/100\n",
      "11/11 [==============================] - 0s 34ms/step - loss: 0.7325 - accuracy: 0.8236 - val_loss: 0.9582 - val_accuracy: 0.0000e+00\n",
      "Epoch 53/100\n",
      "11/11 [==============================] - 0s 35ms/step - loss: 0.6688 - accuracy: 0.8239 - val_loss: 1.0110 - val_accuracy: 0.0000e+00\n",
      "Epoch 54/100\n",
      "11/11 [==============================] - 0s 30ms/step - loss: 0.7098 - accuracy: 0.8236 - val_loss: 1.1440 - val_accuracy: 0.0000e+00\n",
      "Epoch 55/100\n",
      "11/11 [==============================] - 0s 35ms/step - loss: 0.6247 - accuracy: 0.8255 - val_loss: 1.0929 - val_accuracy: 0.0000e+00\n",
      "Epoch 56/100\n",
      "11/11 [==============================] - 0s 43ms/step - loss: 0.6650 - accuracy: 0.8243 - val_loss: 1.0574 - val_accuracy: 0.0000e+00\n"
     ]
    },
    {
     "name": "stdout",
     "output_type": "stream",
     "text": [
      "Epoch 57/100\n",
      "11/11 [==============================] - 0s 37ms/step - loss: 0.6722 - accuracy: 0.8241 - val_loss: 1.2104 - val_accuracy: 0.0000e+00\n",
      "Epoch 58/100\n",
      "11/11 [==============================] - 0s 37ms/step - loss: 0.6626 - accuracy: 0.8258 - val_loss: 1.0753 - val_accuracy: 0.0000e+00\n",
      "Epoch 59/100\n",
      "11/11 [==============================] - 0s 39ms/step - loss: 0.6280 - accuracy: 0.8221 - val_loss: 1.1580 - val_accuracy: 0.0000e+00\n",
      "Epoch 60/100\n",
      "11/11 [==============================] - 0s 32ms/step - loss: 0.6174 - accuracy: 0.8217 - val_loss: 1.2154 - val_accuracy: 0.0000e+00\n",
      "Epoch 61/100\n",
      "11/11 [==============================] - 0s 41ms/step - loss: 0.6285 - accuracy: 0.8240 - val_loss: 1.0716 - val_accuracy: 0.0000e+00\n",
      "Epoch 62/100\n",
      "11/11 [==============================] - 0s 38ms/step - loss: 0.5909 - accuracy: 0.8268 - val_loss: 1.0670 - val_accuracy: 0.0000e+00\n",
      "Epoch 63/100\n",
      "11/11 [==============================] - 0s 43ms/step - loss: 0.5826 - accuracy: 0.8267 - val_loss: 1.1811 - val_accuracy: 0.0000e+00\n",
      "Epoch 64/100\n",
      "11/11 [==============================] - 0s 36ms/step - loss: 0.5673 - accuracy: 0.8260 - val_loss: 1.2174 - val_accuracy: 0.0000e+00\n",
      "Epoch 65/100\n",
      "11/11 [==============================] - 0s 36ms/step - loss: 0.6038 - accuracy: 0.8256 - val_loss: 1.0045 - val_accuracy: 0.0000e+00\n",
      "Epoch 66/100\n",
      "11/11 [==============================] - 0s 40ms/step - loss: 0.6118 - accuracy: 0.8265 - val_loss: 1.0352 - val_accuracy: 0.0000e+00\n",
      "Epoch 67/100\n",
      "11/11 [==============================] - 0s 43ms/step - loss: 0.5766 - accuracy: 0.8272 - val_loss: 1.0306 - val_accuracy: 0.0000e+00\n",
      "Epoch 68/100\n",
      "11/11 [==============================] - 1s 46ms/step - loss: 0.5826 - accuracy: 0.8255 - val_loss: 1.0342 - val_accuracy: 0.0000e+00\n",
      "Epoch 69/100\n",
      "11/11 [==============================] - 0s 40ms/step - loss: 0.5694 - accuracy: 0.8264 - val_loss: 1.0933 - val_accuracy: 0.0000e+00\n",
      "Epoch 70/100\n",
      "11/11 [==============================] - 0s 37ms/step - loss: 0.5196 - accuracy: 0.8283 - val_loss: 1.0930 - val_accuracy: 0.0000e+00\n",
      "Epoch 71/100\n",
      "11/11 [==============================] - 0s 38ms/step - loss: 0.5346 - accuracy: 0.8273 - val_loss: 1.1900 - val_accuracy: 0.0000e+00\n",
      "Epoch 72/100\n",
      "11/11 [==============================] - 0s 34ms/step - loss: 0.5752 - accuracy: 0.8275 - val_loss: 1.0770 - val_accuracy: 0.0000e+00\n",
      "Epoch 73/100\n",
      "11/11 [==============================] - 0s 38ms/step - loss: 0.5373 - accuracy: 0.8279 - val_loss: 1.0883 - val_accuracy: 0.0000e+00\n",
      "Epoch 74/100\n",
      "11/11 [==============================] - 0s 36ms/step - loss: 0.5587 - accuracy: 0.8280 - val_loss: 0.9836 - val_accuracy: 0.0000e+00\n",
      "Epoch 75/100\n",
      "11/11 [==============================] - 0s 37ms/step - loss: 0.5481 - accuracy: 0.8277 - val_loss: 1.0523 - val_accuracy: 0.0000e+00\n",
      "Epoch 76/100\n",
      "11/11 [==============================] - 0s 42ms/step - loss: 0.5117 - accuracy: 0.8265 - val_loss: 1.1220 - val_accuracy: 0.0000e+00\n",
      "Epoch 77/100\n",
      "11/11 [==============================] - 0s 42ms/step - loss: 0.5618 - accuracy: 0.8287 - val_loss: 1.0653 - val_accuracy: 0.0000e+00\n",
      "Epoch 78/100\n",
      "11/11 [==============================] - 0s 38ms/step - loss: 0.5448 - accuracy: 0.8272 - val_loss: 1.1235 - val_accuracy: 0.0000e+00\n",
      "Epoch 79/100\n",
      "11/11 [==============================] - 0s 36ms/step - loss: 0.5340 - accuracy: 0.8287 - val_loss: 1.1325 - val_accuracy: 0.0000e+00\n",
      "Epoch 80/100\n",
      "11/11 [==============================] - 0s 39ms/step - loss: 0.5688 - accuracy: 0.8288 - val_loss: 1.1211 - val_accuracy: 0.0000e+00\n",
      "Epoch 81/100\n",
      "11/11 [==============================] - 0s 33ms/step - loss: 0.5263 - accuracy: 0.8290 - val_loss: 1.0521 - val_accuracy: 0.0000e+00\n",
      "Epoch 82/100\n",
      "11/11 [==============================] - 0s 44ms/step - loss: 0.5386 - accuracy: 0.8269 - val_loss: 1.1282 - val_accuracy: 0.0000e+00\n",
      "Epoch 83/100\n",
      "11/11 [==============================] - 0s 43ms/step - loss: 0.5475 - accuracy: 0.8290 - val_loss: 1.1316 - val_accuracy: 0.0000e+00\n",
      "Epoch 84/100\n",
      "11/11 [==============================] - 0s 45ms/step - loss: 0.4994 - accuracy: 0.8277 - val_loss: 1.0924 - val_accuracy: 0.0000e+00\n",
      "Epoch 85/100\n",
      "11/11 [==============================] - 1s 47ms/step - loss: 0.4675 - accuracy: 0.8287 - val_loss: 1.1557 - val_accuracy: 0.0000e+00\n",
      "Epoch 86/100\n",
      "11/11 [==============================] - 0s 41ms/step - loss: 0.4987 - accuracy: 0.8276 - val_loss: 1.1785 - val_accuracy: 0.0000e+00\n",
      "Epoch 87/100\n",
      "11/11 [==============================] - 1s 47ms/step - loss: 0.5308 - accuracy: 0.8308 - val_loss: 1.0803 - val_accuracy: 0.0000e+00\n",
      "Epoch 88/100\n",
      "11/11 [==============================] - 0s 43ms/step - loss: 0.5303 - accuracy: 0.8282 - val_loss: 1.1660 - val_accuracy: 0.0000e+00\n",
      "Epoch 89/100\n",
      "11/11 [==============================] - 1s 46ms/step - loss: 0.4930 - accuracy: 0.8281 - val_loss: 1.1034 - val_accuracy: 0.0000e+00\n",
      "Epoch 90/100\n",
      "11/11 [==============================] - 0s 40ms/step - loss: 0.4870 - accuracy: 0.8307 - val_loss: 1.1168 - val_accuracy: 0.0000e+00\n",
      "Epoch 91/100\n",
      "11/11 [==============================] - 0s 41ms/step - loss: 0.4500 - accuracy: 0.8307 - val_loss: 1.0653 - val_accuracy: 0.0000e+00\n",
      "Epoch 92/100\n",
      "11/11 [==============================] - 0s 42ms/step - loss: 0.4664 - accuracy: 0.8305 - val_loss: 1.0600 - val_accuracy: 0.0000e+00\n",
      "Epoch 93/100\n",
      "11/11 [==============================] - 1s 48ms/step - loss: 0.4800 - accuracy: 0.8297 - val_loss: 1.1281 - val_accuracy: 0.0000e+00\n",
      "Epoch 94/100\n",
      "11/11 [==============================] - 0s 42ms/step - loss: 0.4813 - accuracy: 0.8306 - val_loss: 1.0576 - val_accuracy: 0.0000e+00\n",
      "Epoch 95/100\n",
      "11/11 [==============================] - 0s 38ms/step - loss: 0.4620 - accuracy: 0.8316 - val_loss: 1.0723 - val_accuracy: 0.0000e+00\n",
      "Epoch 96/100\n",
      "11/11 [==============================] - 1s 48ms/step - loss: 0.4329 - accuracy: 0.8316 - val_loss: 1.0549 - val_accuracy: 0.0000e+00\n",
      "Epoch 97/100\n",
      "11/11 [==============================] - 0s 43ms/step - loss: 0.4242 - accuracy: 0.8303 - val_loss: 1.0508 - val_accuracy: 0.0000e+00\n",
      "Epoch 98/100\n",
      "11/11 [==============================] - 0s 45ms/step - loss: 0.4309 - accuracy: 0.8311 - val_loss: 1.1147 - val_accuracy: 0.0000e+00\n",
      "Epoch 99/100\n",
      "11/11 [==============================] - 0s 45ms/step - loss: 0.4277 - accuracy: 0.8306 - val_loss: 1.1074 - val_accuracy: 0.0000e+00\n",
      "Epoch 100/100\n",
      "11/11 [==============================] - 0s 44ms/step - loss: 0.4229 - accuracy: 0.8316 - val_loss: 1.1231 - val_accuracy: 0.0000e+00\n"
     ]
    },
    {
     "data": {
      "text/plain": [
       "<tensorflow.python.keras.callbacks.History at 0x7f61a058ab20>"
      ]
     },
     "execution_count": 47,
     "metadata": {},
     "output_type": "execute_result"
    }
   ],
   "source": [
    "#x gets the input dataset, y is the labels, validation split is for how much you wanna segment for validation, epochs is number of passes through the data\n",
    "#if we use a different dataloader which also incorporates batch size, then we will have to modify the commented out fields as well\n",
    "\n",
    "model.fit(x=X_o ,y=y_o, validation_split=0.4 , batch_size=3000 , epochs=100 , verbose=1)#, steps_per_epoch= , validation_steps= )"
   ]
  },
  {
   "cell_type": "code",
   "execution_count": 48,
   "metadata": {
    "id": "cq9Exvix0af0"
   },
   "outputs": [],
   "source": [
    "predictions=model.predict(x=X , verbose=0)#, steps= )"
   ]
  },
  {
   "cell_type": "code",
   "execution_count": 49,
   "metadata": {
    "colab": {
     "base_uri": "https://localhost:8080/",
     "height": 172
    },
    "id": "X1v_dh23kD4j",
    "outputId": "9a98fef5-919c-44e0-da2d-c948f1b5a87c"
   },
   "outputs": [
    {
     "name": "stdout",
     "output_type": "stream",
     "text": [
      "[[0.1099731 ]\n",
      " [0.10026509]\n",
      " [0.03688163]\n",
      " ...\n",
      " [0.03314853]\n",
      " [0.03306776]\n",
      " [0.03319918]]\n",
      "857/857 [==============================] - 2s 2ms/step - loss: 0.2353 - accuracy: 0.9747\n"
     ]
    },
    {
     "data": {
      "text/plain": [
       "[0.23534339666366577, 0.9746761322021484]"
      ]
     },
     "execution_count": 49,
     "metadata": {},
     "output_type": "execute_result"
    }
   ],
   "source": [
    "print(predictions)\n",
    "model.evaluate(X,y)"
   ]
  },
  {
   "cell_type": "code",
   "execution_count": 20,
   "metadata": {
    "id": "VgrfvvgjLeqQ"
   },
   "outputs": [],
   "source": [
    "model.save(\"spacia.h5\")"
   ]
  },
  {
   "cell_type": "code",
   "execution_count": null,
   "metadata": {},
   "outputs": [],
   "source": []
  }
 ],
 "metadata": {
  "accelerator": "GPU",
  "colab": {
   "collapsed_sections": [],
   "name": "spacia_model.ipynb",
   "provenance": []
  },
  "kernelspec": {
   "display_name": "Python 3",
   "language": "python",
   "name": "python3"
  },
  "language_info": {
   "codemirror_mode": {
    "name": "ipython",
    "version": 3
   },
   "file_extension": ".py",
   "mimetype": "text/x-python",
   "name": "python",
   "nbconvert_exporter": "python",
   "pygments_lexer": "ipython3",
   "version": "3.8.2"
  }
 },
 "nbformat": 4,
 "nbformat_minor": 1
}
